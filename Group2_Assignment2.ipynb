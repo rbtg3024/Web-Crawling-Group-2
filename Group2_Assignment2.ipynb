{
 "cells": [
  {
   "cell_type": "markdown",
   "metadata": {},
   "source": [
    "# Assignment 2\n",
    "\n",
    "Group 2\n",
    "Authors: Mikayla Russell\n",
    "\n",
    "## Assignment Description\n",
    "\n",
    "#### Part A: \n",
    "Use jQuery to get the elements out of the two websites you used for the assignment of week 1. (That is, replace selenium selectors with jQuery through execute_script. Keep the rest of your pipeline unchanged.)\n",
    "\n",
    "#### Part B:\n",
    "\n",
    "Use Selenium + jQuery for the following task:\n",
    "\n",
    "1. Navigate to: https://www.barchart.com/options/highest-implied-volatility (Links to an external site.)\n",
    "2. Retrieve (and count) the ticker symbols on that page (first 100) (CVM, AMC, OCGN, etc), and count how often these occur\n",
    "    * Keep the symbols that occur at least 3 times\n",
    "3. For each symbol, visit the following page: https://finance.yahoo.com/quote/SYMBOL/options?p=SYMBOL (Links to an external site.), for example https://finance.yahoo.com/quote/CVM/options?p=CVM (Links to an external site.)\n",
    "4. For the options on that page, calculate the average % bid-ask spread relative to the mid-point. For example, if the bid is 1.00 and the ask is 1.20, then the bid-ask spread is 0.20 / 1.10 = 18.18%. Do this calculation for all calls and puts and calculate the average (no need to navigate to other expiry dates)\n",
    "5. Navigate to https://finance.yahoo.com/quote/SYMBOL/community?p=CVM (Links to an external site.) (for example https://finance.yahoo.com/quote/CVM/community?p=CVM (Links to an external site.)) and retrieve the last 1,000 posts (write these to disk, one file for each symbol)\n"
   ]
  },
  {
   "cell_type": "markdown",
   "metadata": {},
   "source": [
    "## Part A"
   ]
  },
  {
   "cell_type": "code",
   "execution_count": null,
   "metadata": {},
   "outputs": [],
   "source": [
    "import time\n",
    "from selenium import webdriver"
   ]
  },
  {
   "cell_type": "code",
   "execution_count": null,
   "metadata": {},
   "outputs": [],
   "source": [
    "# new driver (opens Chrome browser window)\n",
    "driver = webdriver.Chrome(r'C:\\Users\\RusselM\\Web Crawling\\Week 1\\class_files_export\\selenium_files\\chromedriver.exe')"
   ]
  },
  {
   "cell_type": "code",
   "execution_count": null,
   "metadata": {},
   "outputs": [],
   "source": [
    "driver.get(\"https://indeed.com\")"
   ]
  },
  {
   "cell_type": "code",
   "execution_count": null,
   "metadata": {},
   "outputs": [],
   "source": [
    "with open(r\"C:\\Users\\RusselM\\Web Crawling\\Week 1\\class_files_export\\selenium_files\\jquery.js\") as jquery_js:\n",
    "    driver.execute_script( jquery_js.read() ) "
   ]
  },
  {
   "cell_type": "code",
   "execution_count": null,
   "metadata": {},
   "outputs": [],
   "source": [
    "#input element has name=\"q\"\n",
    "elem = driver.find_element_by_id(\"text-input-where\")\n",
    "\n",
    "from selenium.webdriver.common.keys import Keys\n",
    "# type in search query\n",
    "elem.send_keys(\"X\")\n",
    "\n",
    "#Site automatically inputs \"Henrico County, VA\", does not clear with .clear(), must manually backspace\n",
    "for i in range(0,19):\n",
    "    elem.send_keys(Keys.BACKSPACE)\n",
    "\n",
    "#Enter city to find jobs\n",
    "elem.send_keys(\"Gainesville, FL\")\n",
    "elem.send_keys(Keys.RETURN)"
   ]
  },
  {
   "cell_type": "code",
   "execution_count": null,
   "metadata": {},
   "outputs": [],
   "source": [
    "currentURL = driver.current_url\n",
    "# Loop through each page\n",
    "page = 1 \n",
    "for i in range(0, 91, 10):\n",
    "    # First page is automaticly navigated to, define url for pages 2-10\n",
    "    if i == 0:\n",
    "          pageURL = currentURL\n",
    "    else:\n",
    "          pageURL = currentURL + \"&start=\"+ str(i)\n",
    "            \n",
    "    # Navigate to specific page, pause for processing\n",
    "    driver.get(pageURL)\n",
    "    driver.implicitly_wait(2)\n",
    "    \n",
    "    # grab webpage contents\n",
    "    contents = driver.page_source.encode(\"utf-8\")\n",
    "    \n",
    "    # define filename to output location\n",
    "    filename = write_dir + \"\\Jobs_Page_\" + str(page)\n",
    "    \n",
    "    # write to local disk\n",
    "    with open( filename, 'wb') as fd_html:\n",
    "        fd_html.write( contents )\n",
    "        \n",
    "    # Define page number for filenames\n",
    "    page = page + 1"
   ]
  },
  {
   "cell_type": "markdown",
   "metadata": {},
   "source": [
    "## Part B"
   ]
  },
  {
   "cell_type": "markdown",
   "metadata": {},
   "source": [
    "#### 1. Navigate"
   ]
  },
  {
   "cell_type": "code",
   "execution_count": 1,
   "metadata": {},
   "outputs": [],
   "source": [
    "from selenium import webdriver\n",
    "driver = webdriver.Chrome(r'C:\\Users\\RusselM\\Web Crawling\\Week 1\\class_files_export\\selenium_files\\chromedriver.exe')\n",
    "driver.get(\"https://www.barchart.com/options/highest-implied-volatility\")"
   ]
  },
  {
   "cell_type": "markdown",
   "metadata": {},
   "source": [
    "#### 2. Retrieve (and count) the ticker symbols on that page (first 100) (CVM, AMC, OCGN, etc), and count how often these occur. "
   ]
  },
  {
   "cell_type": "code",
   "execution_count": 6,
   "metadata": {},
   "outputs": [],
   "source": [
    "myJs = '''\n",
    "els = $(\"a[data-ng-class='setTriggeredClass(row)']\")\n",
    "links = [];\n",
    "els.each(function (i, el) {links.push(el.innerHTML)})\n",
    "return links;\n",
    "'''\n",
    "l = driver.execute_script(myJs)\n",
    "\n",
    "det = driver.execute_script('return links;')"
   ]
  },
  {
   "cell_type": "markdown",
   "metadata": {},
   "source": [
    "## Only keep the symbols that occur at least 3 times"
   ]
  },
  {
   "cell_type": "code",
   "execution_count": 9,
   "metadata": {},
   "outputs": [
    {
     "data": {
      "text/plain": [
       "Counter({'ATOS': 5,\n",
       "         'CVM': 3,\n",
       "         'AMC': 34,\n",
       "         'IPOE': 12,\n",
       "         'MOXC': 1,\n",
       "         'AHT': 6,\n",
       "         'ARVL': 1,\n",
       "         'OCGN': 5,\n",
       "         'BBIG': 5,\n",
       "         'GME': 1,\n",
       "         'OPK': 2,\n",
       "         'MARA': 8,\n",
       "         'RAPT': 3,\n",
       "         'RIOT': 9,\n",
       "         'EBON': 2,\n",
       "         'CAN': 4,\n",
       "         'SENS': 1,\n",
       "         'SPCE': 22,\n",
       "         'MVIS': 1,\n",
       "         'HEPA': 1,\n",
       "         'EVFM': 3,\n",
       "         'SNDL': 11,\n",
       "         'EMAN': 1,\n",
       "         'ASUR': 1,\n",
       "         'UPST': 1,\n",
       "         'SAGE': 1,\n",
       "         'REED': 1,\n",
       "         'RIDE': 10,\n",
       "         'SURF': 1,\n",
       "         'SEEL': 1,\n",
       "         'CVAC': 1,\n",
       "         'NTLA': 2,\n",
       "         'LFMD': 1,\n",
       "         'SKLZ': 1,\n",
       "         'NEPT': 1,\n",
       "         'YALA': 3,\n",
       "         'APLS': 2,\n",
       "         'BTU': 1,\n",
       "         'GOTU': 2,\n",
       "         'RLX': 1,\n",
       "         'GSAT': 1,\n",
       "         'POWW': 1,\n",
       "         'SRAX': 1,\n",
       "         'BBW': 1,\n",
       "         'CLOV': 2,\n",
       "         'TELL': 1,\n",
       "         'STEM': 1,\n",
       "         'AMTX': 2,\n",
       "         'NNDM': 1,\n",
       "         'RKDA': 1,\n",
       "         'SOS': 1,\n",
       "         'IDEX': 1,\n",
       "         'NERV': 1,\n",
       "         'BNGO': 1,\n",
       "         'LTRPA': 1,\n",
       "         'AGEN': 1,\n",
       "         'TSLA': 1,\n",
       "         'TLRY': 2,\n",
       "         'LOTZ': 1,\n",
       "         'WKHS': 1,\n",
       "         'PAYS': 1,\n",
       "         'SRNE': 1,\n",
       "         'CCIV': 2,\n",
       "         'IOVA': 1})"
      ]
     },
     "execution_count": 9,
     "metadata": {},
     "output_type": "execute_result"
    }
   ],
   "source": [
    "from collections import Counter\n",
    "\n",
    "i = Counter(det)\n",
    "i"
   ]
  },
  {
   "cell_type": "markdown",
   "metadata": {},
   "source": [
    "#### 3. For each symbol, visit the following page: https://finance.yahoo.com/quote/SYMBOL/options?p=SYMBOL\n",
    "\n",
    "#### 4.  For the options on that page, calculate the average % bid-ask spread relative to the mid-point. For example, if the bid is 1.00 and the ask is 1.20, then the bid-ask spread is 0.20 / 1.10 = 18.18%. Do this calculation for all calls and puts and calculate the average (no need to navigate to other expiry dates)\n",
    "\n",
    "### bid-ask spread: (|bid-ask|)/(bid+ask/2)"
   ]
  },
  {
   "cell_type": "code",
   "execution_count": null,
   "metadata": {},
   "outputs": [],
   "source": [
    "for i in range(0,99):\n",
    "    # 3\n",
    "    driver.get(\"https://finance.yahoo.com/quote/\" + str(i) + \"/options?p=\" = str(i))\n",
    "    # 4 get bid & ask values\n",
    "    myJs = '''\n",
    "    els = $(\"a[data-ng-class='setTriggeredClass(row)']\")\n",
    "    links = [];\n",
    "    els.each(function (i, el) {links.push(el.innerHTML)})\n",
    "    return links;\n",
    "    '''\n",
    "    l = driver.execute_script(myJs)\n",
    "    det = driver.execute_script('return links;')\n",
    "    \n",
    "    "
   ]
  },
  {
   "cell_type": "code",
   "execution_count": null,
   "metadata": {},
   "outputs": [],
   "source": []
  },
  {
   "cell_type": "markdown",
   "metadata": {},
   "source": [
    "#### 5. Navigate to https://finance.yahoo.com/quote/SYMBOL/community?p=CVM (Links to an external site.) (for example https://finance.yahoo.com/quote/CVM/community?p=CVM (Links to an external site.)) and retrieve the last 1,000 posts (write these to disk, one file for each symbol)"
   ]
  },
  {
   "cell_type": "code",
   "execution_count": null,
   "metadata": {},
   "outputs": [],
   "source": [
    "driver.get(\"https://finance.yahoo.com/quote/CVM/community?p=CVM\")\n",
    "\n",
    "\n",
    "links[:-1000]"
   ]
  }
 ],
 "metadata": {
  "kernelspec": {
   "display_name": "Python 3",
   "language": "python",
   "name": "python3"
  },
  "language_info": {
   "codemirror_mode": {
    "name": "ipython",
    "version": 3
   },
   "file_extension": ".py",
   "mimetype": "text/x-python",
   "name": "python",
   "nbconvert_exporter": "python",
   "pygments_lexer": "ipython3",
   "version": "3.8.5"
  }
 },
 "nbformat": 4,
 "nbformat_minor": 4
}
